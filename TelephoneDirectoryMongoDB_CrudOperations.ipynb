{
 "cells": [
  {
   "cell_type": "markdown",
   "id": "73a6366b",
   "metadata": {},
   "source": [
    "**Importing pymongo, creating a database and collection, inserting one document"
   ]
  },
  {
   "cell_type": "code",
   "execution_count": null,
   "id": "9a6e5055",
   "metadata": {},
   "outputs": [],
   "source": [
    "from pymongo import MongoClient\n",
    "client=MongoClient(\"mongodb://localhost:27017\")"
   ]
  },
  {
   "cell_type": "code",
   "execution_count": 4,
   "id": "08e5337e",
   "metadata": {},
   "outputs": [],
   "source": [
    "db=client[\"Telephone_Directory\"]"
   ]
  },
  {
   "cell_type": "code",
   "execution_count": 5,
   "id": "50364221",
   "metadata": {},
   "outputs": [],
   "source": [
    "my_col=db[\"Telph_col\"]"
   ]
  },
  {
   "cell_type": "code",
   "execution_count": 6,
   "id": "22867a58",
   "metadata": {},
   "outputs": [
    {
     "name": "stdout",
     "output_type": "stream",
     "text": [
      "<pymongo.results.InsertOneResult object at 0x000002000C7C90F0>\n"
     ]
    }
   ],
   "source": [
    "record1 = {'mobile' : 9355280251, 'name': 'Tina Turner', 'gender' : 'female', 'age' : 21}\n",
    "\n",
    "x = my_col.insert_one(record1)\n",
    "print(x)"
   ]
  },
  {
   "cell_type": "markdown",
   "id": "bd05acd1",
   "metadata": {},
   "source": [
    "**Inserting Many document"
   ]
  },
  {
   "cell_type": "code",
   "execution_count": 7,
   "id": "24d1b330",
   "metadata": {},
   "outputs": [
    {
     "name": "stdout",
     "output_type": "stream",
     "text": [
      "<pymongo.results.InsertManyResult object at 0x000002000C7C8DC0>\n"
     ]
    }
   ],
   "source": [
    "record2 = [       \n",
    "           {'mobile' : 9122476671, 'name' :'donald', 'gender' : 'male', 'age' : 50} ,\n",
    "           {'mobile' : 9739887479,'name': 'Marco', 'gender' : 'male', 'age' : 65} ,\n",
    "           {'mobile' : 1552959487,'name': 'Taylor Swift', 'gender' : 'female', 'age' : 25} ,  \n",
    "           {'mobile' : 7901088559,'name': 'Steffan', 'gender' : 'male', 'age' : 30} \n",
    "          ]\n",
    "y = my_col.insert_many(record2)\n",
    "print(y)"
   ]
  },
  {
   "cell_type": "markdown",
   "id": "507f468d",
   "metadata": {},
   "source": [
    "**Finding"
   ]
  },
  {
   "cell_type": "code",
   "execution_count": 8,
   "id": "a2b4ca30",
   "metadata": {},
   "outputs": [
    {
     "name": "stdout",
     "output_type": "stream",
     "text": [
      "{'_id': ObjectId('6396c31f2c669eba44edd788'), 'mobile': 9355280251, 'name': 'Tina Turner', 'gender': 'female', 'age': 21}\n",
      "{'_id': ObjectId('6396c3f42c669eba44edd789'), 'mobile': 9122476671, 'name': 'donald', 'gender': 'male', 'age': 50}\n",
      "{'_id': ObjectId('6396c3f42c669eba44edd78a'), 'mobile': 9739887479, 'name': 'Marco', 'gender': 'male', 'age': 65}\n",
      "{'_id': ObjectId('6396c3f42c669eba44edd78b'), 'mobile': 1552959487, 'name': 'Taylor Swift', 'gender': 'female', 'age': 25}\n",
      "{'_id': ObjectId('6396c3f42c669eba44edd78c'), 'mobile': 7901088559, 'name': 'Steffan', 'gender': 'male', 'age': 30}\n"
     ]
    }
   ],
   "source": [
    "for x in my_col.find():\n",
    "    print(x)"
   ]
  },
  {
   "cell_type": "markdown",
   "id": "7ffe5572",
   "metadata": {},
   "source": [
    "**Update One"
   ]
  },
  {
   "cell_type": "code",
   "execution_count": 9,
   "id": "17ab3e9e",
   "metadata": {},
   "outputs": [
    {
     "name": "stdout",
     "output_type": "stream",
     "text": [
      "{'_id': ObjectId('6396c31f2c669eba44edd788'), 'mobile': 9355280251, 'name': 'Tina Turner', 'gender': 'female', 'age': 21}\n",
      "{'_id': ObjectId('6396c3f42c669eba44edd789'), 'mobile': 9122476671, 'name': 'donald', 'gender': 'male', 'age': 50}\n",
      "{'_id': ObjectId('6396c3f42c669eba44edd78a'), 'mobile': 9739887479, 'name': 'Marco', 'gender': 'male', 'age': 65}\n",
      "{'_id': ObjectId('6396c3f42c669eba44edd78b'), 'mobile': 1552959487, 'name': 'Taylor Swift', 'gender': 'female', 'age': 35}\n",
      "{'_id': ObjectId('6396c3f42c669eba44edd78c'), 'mobile': 7901088559, 'name': 'Steffan', 'gender': 'male', 'age': 30}\n"
     ]
    }
   ],
   "source": [
    "myquery = { 'age' : 25}\n",
    "newvalue = { '$set' : {'age' : 35} }\n",
    "my_col.update_one(myquery, newvalue)\n",
    "\n",
    "for x in my_col.find():\n",
    "    print(x)\n"
   ]
  },
  {
   "cell_type": "markdown",
   "id": "1d7b7c8d",
   "metadata": {},
   "source": [
    "**Update Many"
   ]
  },
  {
   "cell_type": "code",
   "execution_count": 11,
   "id": "8b4573db",
   "metadata": {},
   "outputs": [
    {
     "name": "stdout",
     "output_type": "stream",
     "text": [
      "{'_id': ObjectId('6396c31f2c669eba44edd788'), 'mobile': 9355280251, 'name': 'Tina Turner', 'gender': 'female', 'age': 21, 'city': 'Hyderabad'}\n",
      "{'_id': ObjectId('6396c3f42c669eba44edd789'), 'mobile': 9122476671, 'name': 'donald', 'gender': 'male', 'age': 50}\n",
      "{'_id': ObjectId('6396c3f42c669eba44edd78a'), 'mobile': 9739887479, 'name': 'Marco', 'gender': 'male', 'age': 65}\n",
      "{'_id': ObjectId('6396c3f42c669eba44edd78b'), 'mobile': 1552959487, 'name': 'Taylor Swift', 'gender': 'female', 'age': 35, 'city': 'Hyderabad'}\n",
      "{'_id': ObjectId('6396c3f42c669eba44edd78c'), 'mobile': 7901088559, 'name': 'Steffan', 'gender': 'male', 'age': 30}\n"
     ]
    }
   ],
   "source": [
    "\n",
    "myquery = {'gender' : 'female'}\n",
    "newvalues = {'$set' : {'city' : 'Hyderabad'}}\n",
    "my_col.update_many(myquery, newvalues)\n",
    "\n",
    "for x in my_col.find():\n",
    "    print(x)\n"
   ]
  },
  {
   "cell_type": "code",
   "execution_count": 12,
   "id": "70a20bb6",
   "metadata": {},
   "outputs": [
    {
     "name": "stdout",
     "output_type": "stream",
     "text": [
      "{'_id': ObjectId('6396c31f2c669eba44edd788'), 'mobile': 9355280251, 'name': 'Tina Turner', 'gender': 'female', 'age': 21, 'city': 'Hyderabad'}\n",
      "{'_id': ObjectId('6396c3f42c669eba44edd789'), 'mobile': 9122476671, 'name': 'donald', 'gender': 'male', 'age': 50, 'city': 'bangalore'}\n",
      "{'_id': ObjectId('6396c3f42c669eba44edd78a'), 'mobile': 9739887479, 'name': 'Marco', 'gender': 'male', 'age': 65, 'city': 'bangalore'}\n",
      "{'_id': ObjectId('6396c3f42c669eba44edd78b'), 'mobile': 1552959487, 'name': 'Taylor Swift', 'gender': 'female', 'age': 35, 'city': 'Hyderabad'}\n",
      "{'_id': ObjectId('6396c3f42c669eba44edd78c'), 'mobile': 7901088559, 'name': 'Steffan', 'gender': 'male', 'age': 30, 'city': 'bangalore'}\n"
     ]
    }
   ],
   "source": [
    "myquery = {'gender' : 'male'}\n",
    "newvalues = {'$set' : {'city' : 'bangalore'}}\n",
    "my_col.update_many(myquery, newvalues)\n",
    "\n",
    "for x in my_col.find():\n",
    "    print(x)"
   ]
  },
  {
   "cell_type": "markdown",
   "id": "83bab1ef",
   "metadata": {},
   "source": [
    "**Delete One"
   ]
  },
  {
   "cell_type": "code",
   "execution_count": 13,
   "id": "90c8b95a",
   "metadata": {},
   "outputs": [
    {
     "data": {
      "text/plain": [
       "<pymongo.results.DeleteResult at 0x2000d284b80>"
      ]
     },
     "execution_count": 13,
     "metadata": {},
     "output_type": "execute_result"
    }
   ],
   "source": [
    "myquery = { 'age' : 35 }\n",
    "\n",
    "my_col.delete_one(myquery)"
   ]
  },
  {
   "cell_type": "code",
   "execution_count": 14,
   "id": "5cb074f7",
   "metadata": {},
   "outputs": [
    {
     "name": "stdout",
     "output_type": "stream",
     "text": [
      "{'_id': ObjectId('6396c31f2c669eba44edd788'), 'mobile': 9355280251, 'name': 'Tina Turner', 'gender': 'female', 'age': 21, 'city': 'Hyderabad'}\n",
      "{'_id': ObjectId('6396c3f42c669eba44edd789'), 'mobile': 9122476671, 'name': 'donald', 'gender': 'male', 'age': 50, 'city': 'bangalore'}\n",
      "{'_id': ObjectId('6396c3f42c669eba44edd78a'), 'mobile': 9739887479, 'name': 'Marco', 'gender': 'male', 'age': 65, 'city': 'bangalore'}\n",
      "{'_id': ObjectId('6396c3f42c669eba44edd78c'), 'mobile': 7901088559, 'name': 'Steffan', 'gender': 'male', 'age': 30, 'city': 'bangalore'}\n"
     ]
    }
   ],
   "source": [
    "for x in my_col.find():\n",
    "    print(x)"
   ]
  },
  {
   "cell_type": "markdown",
   "id": "a274e3b8",
   "metadata": {},
   "source": [
    "**Delete Many"
   ]
  },
  {
   "cell_type": "code",
   "execution_count": 15,
   "id": "39bfdef4",
   "metadata": {},
   "outputs": [
    {
     "name": "stdout",
     "output_type": "stream",
     "text": [
      "{'_id': ObjectId('6396c31f2c669eba44edd788'), 'mobile': 9355280251, 'name': 'Tina Turner', 'gender': 'female', 'age': 21, 'city': 'Hyderabad'}\n"
     ]
    }
   ],
   "source": [
    "myquery = { 'gender' : 'male' }\n",
    "\n",
    "my_col.delete_many(myquery)\n",
    "\n",
    "for x in my_col.find():\n",
    "    print(x)\n"
   ]
  }
 ],
 "metadata": {
  "kernelspec": {
   "display_name": "Python 3 (ipykernel)",
   "language": "python",
   "name": "python3"
  },
  "language_info": {
   "codemirror_mode": {
    "name": "ipython",
    "version": 3
   },
   "file_extension": ".py",
   "mimetype": "text/x-python",
   "name": "python",
   "nbconvert_exporter": "python",
   "pygments_lexer": "ipython3",
   "version": "3.10.9"
  }
 },
 "nbformat": 4,
 "nbformat_minor": 5
}
